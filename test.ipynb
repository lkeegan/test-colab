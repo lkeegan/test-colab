{
  "nbformat": 4,
  "nbformat_minor": 0,
  "metadata": {
    "colab": {
      "name": "test.ipynb",
      "version": "0.3.2",
      "provenance": [],
      "include_colab_link": true
    },
    "kernelspec": {
      "name": "python3",
      "display_name": "Python 3"
    }
  },
  "cells": [
    {
      "cell_type": "markdown",
      "metadata": {
        "id": "view-in-github",
        "colab_type": "text"
      },
      "source": [
        "<a href=\"https://colab.research.google.com/github/lkeegan/test-colab/blob/master/test.ipynb\" target=\"_parent\"><img src=\"https://colab.research.google.com/assets/colab-badge.svg\" alt=\"Open In Colab\"/></a>"
      ]
    },
    {
      "metadata": {
        "id": "IXAtrtLmrnLA",
        "colab_type": "code",
        "outputId": "eb781767-a85c-4c56-9b6e-fdf3e03e0e77",
        "colab": {
          "base_uri": "https://localhost:8080/",
          "height": 53
        }
      },
      "cell_type": "code",
      "source": [
        "import sys\n",
        "print(sys.version)"
      ],
      "execution_count": 0,
      "outputs": [
        {
          "output_type": "stream",
          "text": [
            "3.6.7 (default, Oct 22 2018, 11:32:17) \n",
            "[GCC 8.2.0]\n"
          ],
          "name": "stdout"
        }
      ]
    },
    {
      "metadata": {
        "id": "OfivR5bYrp-Q",
        "colab_type": "code",
        "colab": {
          "base_uri": "https://localhost:8080/",
          "height": 179
        },
        "outputId": "13e62f51-7e9a-4e53-b967-e3e4efcf06e8"
      },
      "cell_type": "code",
      "source": [
        "!pip install openQCD-input-file-editor"
      ],
      "execution_count": 1,
      "outputs": [
        {
          "output_type": "stream",
          "text": [
            "Collecting openQCD-input-file-editor\n",
            "\u001b[?25l  Downloading https://files.pythonhosted.org/packages/f8/93/9769efafbadf459e08ee51bb41854191dabb68b1fd887dff24291d9f7752/openQCD-input-file-editor-0.2.tar.gz (128kB)\n",
            "\u001b[K    100% |████████████████████████████████| 133kB 3.8MB/s \n",
            "\u001b[?25hBuilding wheels for collected packages: openQCD-input-file-editor\n",
            "  Building wheel for openQCD-input-file-editor (setup.py) ... \u001b[?25ldone\n",
            "\u001b[?25h  Stored in directory: /root/.cache/pip/wheels/2e/f9/d0/f718b6c53d23e9030fb2da061b77bbcd7644fc2ce9f617d464\n",
            "Successfully built openQCD-input-file-editor\n",
            "Installing collected packages: openQCD-input-file-editor\n",
            "Successfully installed openQCD-input-file-editor-0.2\n"
          ],
          "name": "stdout"
        }
      ]
    },
    {
      "metadata": {
        "id": "dl9EB98Xs5qV",
        "colab_type": "code",
        "colab": {}
      },
      "cell_type": "code",
      "source": [
        ""
      ],
      "execution_count": 0,
      "outputs": []
    }
  ]
}